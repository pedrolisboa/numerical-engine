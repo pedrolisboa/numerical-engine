{
 "cells": [
  {
   "cell_type": "code",
   "execution_count": 1,
   "metadata": {
    "collapsed": false
   },
   "outputs": [],
   "source": [
    "import numpy as np\n",
    "import re as re\n",
    "import matplotlib.pyplot as plt\n",
    "from numpy.linalg import solve,norm,inv\n",
    "from random import uniform\n",
    "from sympy import symbols,diff,sympify,lambdify,default_sort_key\n",
    "from sympy.parsing.sympy_parser import parse_expr"
   ]
  },
  {
   "cell_type": "code",
   "execution_count": 43,
   "metadata": {
    "collapsed": false
   },
   "outputs": [],
   "source": [
    "########################################################\n",
    "#Funções de suporte\n",
    "########################################################\n",
    "\n",
    "#Dado uma determinada lista de funções f(x) = b em formato string, retorna f(x) - b\n",
    "def set_to_root(functions_strings):\n",
    "    return [re.sub(\"=\",\"-\",function)for function in functions_strings]\n",
    "    \n",
    "def parse_string_to_sympy(functions_strings):\n",
    "    return [parse_expr(function,evaluate=False)for function in functions_strings]\n",
    "    \n",
    "#Retorna a função lambda da expressão sympy. A função irá receber todas as variáveis livres da expressão em forma\n",
    "#vetorial\n",
    "#expr - expressão no formato sympy\n",
    "def vector_lambdify(expr):\n",
    "    return lambdify(np.array([sorted(list(expr.free_symbols), key = lambda x:x.sort_key())]),expr)\n",
    "\n",
    "#Retorna um array contendo funções anonimas equivalentes cada função da lista de entrada.\n",
    "#functions - lista de funções no formato sympy\n",
    "def parse_system_to_lambda(functions):\n",
    "    number_variables = len(functions[0].free_symbols)\n",
    "    return ([vector_lambdify(function)\n",
    "            for function in functions],number_variables) \n",
    "\n",
    "\n",
    "#Calcula as derivadas de f em relação à cada elemento de x0.\n",
    "#O procedimento calcula uma matriz quadrada(offset_matrix) contendo N vetoes ,sendo N o número de elementos em x0.\n",
    "#Seja i um índice em x0 e xK um vetor em offset_matrix, xK[i] = h; xK[j] = 0, j =/= i;\n",
    "#f  - função de 1 ou várias variáveis\n",
    "#x0 -vetor de pontos\n",
    "#return - lista contendo o resultado da derivação em relação à cada elemento\n",
    "def gradient_vec(f,x0):\n",
    "    h = 1e-10\n",
    "    offset_matrix = np.array([[h if (i==j) else 0 for i in range(x0.size)] for j in range(x0.size)])\n",
    "    return [(f(x0+offset)- f(x0))/h for offset in offset_matrix]\n",
    "\n",
    "#Retorna a matriz jacobiana da função de entrada\n",
    "def Jacobian(f_vec,x0):\n",
    "    return [gradient_vec(fi,x0) for fi in f_vec]\n",
    "\n",
    "#Dado uma função vetorial f_vec(.)(um sistema de funções fi aplicados em x1,x2...xn = x) retorna f_vec(x)\n",
    "def eval_system(f_vec,x):\n",
    "    return np.array([f(x) for f in f_vec])\n",
    "\n",
    "########################################################\n",
    "#Newton e Broyden\n",
    "########################################################\n",
    "\n",
    "#Resolve um sistema de equações não-lineares pelo método de newton\n",
    "#f_list - lista de funções anonimas f(x) correspondente ao sistema sendo resolvido(f(x) = 0)\n",
    "#N - numero de variáveis livres\n",
    "#tol - tolerância de valor para f(x). Critério de parada e convergência: ||dX||/||X||\n",
    "#return - tupla contendo um vetor com o valor encontrado para os parametrôs e uma variável booleana cotendo\n",
    "#a informação de convergência\n",
    "def solve_by_newton(f_list,N,tol):\n",
    "    maxIterNum = 100000\n",
    "    max_divergence = 10e+50\n",
    "    \n",
    "    x = np.array([1 if (i % 2 == 0) else 0 for i in range(N)])\n",
    "    convergence = False\n",
    "    count = 0\n",
    "    \n",
    "    #print('Iteration             X              f(X)')\n",
    "    while(count < maxIterNum):\n",
    "        fx = eval_system(f_list, x)\n",
    "\n",
    "        dx = solve(Jacobian(f_list,x),(-1)*fx)\n",
    "        x = x + dx\n",
    "    #    print(count, \"    \", x, eval_system(f_list,x))\n",
    "        if (norm(dx)/norm(x) < tol): \n",
    "            convergence = True\n",
    "            break\n",
    "        count +=1\n",
    "    return (x, convergence)\n",
    "\n",
    "#Resolve um sistema de equações não-lineares pelo método de broyden\n",
    "#f_list - \n",
    "#N - numero de variáveis livres\n",
    "#tol - tolerância de valor para f(x). Critério de parada e convergência: ||dX||/||X||\n",
    "#return - tupla contendo um vetor com o valor encontrado para os parametrôs e uma variável booleana cotendo\n",
    "#a informação de convergência\n",
    "def solve_by_broyden(f_list,N,tol):\n",
    "    maxIterNum = 10000\n",
    "    max_divergence = 1e+50\n",
    "    \n",
    "    x = np.array([1 if (i % 2 == 0) else 0 for i in range(N)])\n",
    "    J = Jacobian(f_list,x)\n",
    "    convergence = False\n",
    "    count = 0\n",
    "    \n",
    "    #print('Iteration             X              f(X)')\n",
    "    while(count < maxIterNum):\n",
    "        fx0 = eval_system(f_list,x)\n",
    "        dx = solve(J,(-1)*fx0)\n",
    "        x = x + dx\n",
    "        fx1 = eval_system(f_list,x)\n",
    "        J = J + (1/np.dot(dx,dx))*(np.outer(fx1,dx))\n",
    "    #    print(count, \"    \", x, eval_system(f_list,x))\n",
    "        if (norm(dx)/norm(x) < tol): \n",
    "            convergence = True\n",
    "            break\n",
    "        count +=1\n",
    "        \n",
    "    return (x, convergence)\n",
    "\n",
    "#Resolve um sistema não-linear pelo método de newton ou pelo método de broyden\n",
    "#system - conjunto string contendo o sistema de equações\n",
    "#method - string contendo o método a ser usado\n",
    "#return - valor da solução do sistema(em caso de método inválido, retorna [0])\n",
    "def solve_non_linear(system, method):\n",
    "    system_pre_processed = set_to_root(system)\n",
    "    system_sympy = parse_string_to_sympy(system_pre_processed)\n",
    "    (f_vec,N) = parse_system_to_lambda(system_sympy)\n",
    "    if (method.lower() == \"newton\"):\n",
    "        return solve_by_newton(f_vec,N,10e-04)\n",
    "    if (method.lower() == \"broyden\"):\n",
    "        return solve_by_broyden(f_vec,N,10e-04)\n",
    "    print(\"Método invalido de resolução\")\n",
    "    return np.zeros(1)\n",
    "\n",
    "########################################################\n",
    "#Regressão nao-linear\n",
    "########################################################\n",
    "\n",
    "#Implementa o método de newton para achar os parâmetros da função sendo ajustada\n",
    "#fit_function_list - lista de funçoes anonimas parcialmente preenchidas com os devidos valores de dados \n",
    "#N - número de parâmetros a serem ajustados\n",
    "#tol - tolerância de valor para f(x). Critério de parada e convergência: ||dX||/||X||\n",
    "#return - tupla contendo um vetor com o valor encontrado para os parametrôs e uma variável booleana cotendo\n",
    "#a informação de convergência\n",
    "def fit_by_newton(fit_function_list, N,tol):\n",
    "    maxIterNum = 1000\n",
    "    max_divergence = 1e+10\n",
    "    \n",
    "    B = np.array([i for i in range(N)])\n",
    "    convergence = False\n",
    "    count = 0\n",
    "    while(count < maxIterNum):\n",
    "        JB = Jacobian(fit_function_list,B)\n",
    "        trJB = (np.array(JB)).transpose()\n",
    "        fB = eval_system(fit_function_list,B)\n",
    "        dB = np.matmul(np.matmul(((-1)*inv(np.matmul(trJB,JB))),trJB),fB)\n",
    "        if(norm(dB)/norm(B) < tol):\n",
    "            convergence = True\n",
    "            break\n",
    "        B = B + dB\n",
    "        count +=1\n",
    "    return B\n",
    "    \n",
    "\n",
    "#Aplica regressão não linear da função (fit) em um conjunto de dados(data+y)\n",
    "def nonlinear_regression(fit,data,y):\n",
    "    fit_y = [(fit + ' + ' + repr(y[i])) if (y[i] < 0) \n",
    "             else (fit + ' - ' + repr(y[i]))  for i in range(y.size)]\n",
    "    fit_sympy = parse_string_to_sympy(fit_y)\n",
    "    (fit_lambda, number_of_symbols) = parse_system_to_lambda(fit_sympy)\n",
    "    number_of_parameters = number_of_symbols - 1\n",
    "    #Gera nova lista da função fit que recebe apenas os valores dos parâmetros e mantém fixo pontos\n",
    "    #de dados. A uma função no indice i da lista corresponde à função fit aplicada ao dado em data[i].\n",
    "    fit_parameters = [(lambda x,element=element,i=i: fit_lambda[i](np.append(x,element)))\n",
    "                      for i,element in zip(range(y.size),data)]\n",
    "    return fit_by_newton(fit_parameters,number_of_parameters,10e-04)\n",
    "\n",
    "#Plota a função fit(B) e y x dados \n",
    "def plot_fit(fit, B,data,y):\n",
    "    fit_string = set_to_root([fit])\n",
    "    fit_sympy = parse_string_to_sympy(fit_string)\n",
    "    (fit_lambda, number_of_symbols) = parse_system_to_lambda(fit_sympy)\n",
    "    fit_plot = lambda x: fit_lambda[0](np.append(B,x))\n",
    "    fit_plot_v = np.vectorize(fit_plot)\n",
    "    x = np.arange(0.5, 5, 0.1)\n",
    "    plt.plot(x,fit_plot_v(x))\n",
    "    plt.scatter(data, y)\n",
    "    \n",
    "    plt.show()"
   ]
  },
  {
   "cell_type": "code",
   "execution_count": 44,
   "metadata": {
    "collapsed": false
   },
   "outputs": [
    {
     "name": "stdout",
     "output_type": "stream",
     "text": [
      "Newton:  [ 0.7904098   0.8068882   1.31308185]\n",
      "Broyden:  [ 0.79032879  0.80686016  1.31313331]\n"
     ]
    }
   ],
   "source": [
    "#3)\n",
    "system = np.array([\"16*x1**4 + 16*x2**4 + x3**4 = 16\",\n",
    "                  \"x1**2 + x2**2 + x3**2 = 3\",\n",
    "                   \"x1**3 - x2 + x3 = 1\"])\n",
    "\n",
    "print(\"Newton: \", solve_non_linear(system,\"newton\")[0])\n",
    "print(\"Broyden: \", solve_non_linear(system,\"broyden\")[0])"
   ]
  },
  {
   "cell_type": "code",
   "execution_count": 46,
   "metadata": {
    "collapsed": false
   },
   "outputs": [
    {
     "name": "stdout",
     "output_type": "stream",
     "text": [
      "Newton:  [  2.63825805e-11   1.00000001e+00   4.37386757e-08]\n",
      "Broyden:  [ 0.0018769   0.99565311 -0.02603574]\n"
     ]
    }
   ],
   "source": [
    "#4) a)\n",
    "system = np.array([\"2*x1 + x2**2 + 6*x3**2  = 1\",\n",
    "                  \"8*x1**3 + 6*x1*x2**2 + 36*x1*x2*x3 + 108*x1*x3**2 = 0\",\n",
    "                   \"60*x1**4 + 60*(x1**2)*(x2**2) + 576*(x1**2)*x2*x3 +\\\n",
    "                   2232*(x1**2)*x3**2 + 252*(x3**2)*x2**2 + 1296*(x3**3)*x2\\\n",
    "                   + 3348*x3**3 + 24*(x2**3)*x3 + 3*x2 = 3\"])\n",
    "\n",
    "print(\"Newton: \", solve_non_linear(system,\"newton\")[0])\n",
    "print(\"Broyden: \", solve_non_linear(system,\"broyden\")[0])"
   ]
  },
  {
   "cell_type": "code",
   "execution_count": 45,
   "metadata": {
    "collapsed": false
   },
   "outputs": [
    {
     "name": "stdout",
     "output_type": "stream",
     "text": [
      "Newton:  [ 0.10575786  0.8744296   0.06305705]\n",
      "Broyden:  [ 0.10530335  0.87515616  0.06271792]\n"
     ]
    }
   ],
   "source": [
    "#4) b)\n",
    "system = np.array([\"2*x1 + x2**2 + 6*x3**2  = 1\",\n",
    "                  \"8*x1**3 + 6*x1*x2**2 + 36*x1*x2*x3 + 108*x1*x3**2 = 0.75\",\n",
    "                   \"60*x1**4 + 60*(x1**2)*(x2**2) + 576*(x1**2)*x2*x3 +\\\n",
    "                   2232*(x1**2)*x3**2 + 252*(x3**2)*x2**2 + 1296*(x3**3)*x2\\\n",
    "                   + 3348*x3**3 + 24*(x2**3)*x3 + 3*x2 = 6.5\"])\n",
    "\n",
    "print(\"Newton: \", solve_non_linear(system,\"newton\")[0])\n",
    "print(\"Broyden: \", solve_non_linear(system,\"broyden\")[0])"
   ]
  },
  {
   "cell_type": "code",
   "execution_count": 47,
   "metadata": {
    "collapsed": false
   },
   "outputs": [
    {
     "name": "stdout",
     "output_type": "stream",
     "text": [
      "Newton:  [  3.39448258e-11   9.70801329e-01   9.79326142e-02]\n",
      "Broyden:  [  5.82082258e-04   9.69009211e-01   1.00181037e-01]\n"
     ]
    }
   ],
   "source": [
    "#4) c)\n",
    "system = np.array([\"2*x1 + x2**2 + 6*x3**2  = 1\",\n",
    "                  \"8*x1**3 + 6*x1*x2**2 + 36*x1*x2*x3 + 108*x1*x3**2 = 0\",\n",
    "                   \"60*x1**4 + 60*(x1**2)*(x2**2) + 576*(x1**2)*x2*x3 +\\\n",
    "                   2232*(x1**2)*x3**2 + 252*(x3**2)*x2**2 + 1296*(x3**3)*x2\\\n",
    "                   + 3348*x3**3 + 24*(x2**3)*x3 + 3*x2 = 11.667\"])\n",
    "\n",
    "print(\"Newton: \", solve_non_linear(system,\"newton\")[0])\n",
    "print(\"Broyden: \", solve_non_linear(system,\"broyden\")[0])"
   ]
  },
  {
   "cell_type": "code",
   "execution_count": 48,
   "metadata": {
    "collapsed": false,
    "scrolled": false
   },
   "outputs": [],
   "source": [
    "#5)\n",
    "y = np.array([1,2,9])\n",
    "data = np.array([1,2,3])\n",
    "f = \"b0 + b1*x**b2\"\n",
    "B1 = nonlinear_regression(f,data,y)\n"
   ]
  },
  {
   "cell_type": "code",
   "execution_count": 49,
   "metadata": {
    "collapsed": false,
    "scrolled": true
   },
   "outputs": [
    {
     "data": {
      "image/png": "[encoded data removed]",
      "text/plain": [
       "<matplotlib.figure.Figure at 0x1cd51874f98>"
      ]
     },
     "metadata": {},
     "output_type": "display_data"
    }
   ],
   "source": [
    "plot_fit(f,B1,data,y)"
   ]
  },
  {
   "cell_type": "code",
   "execution_count": null,
   "metadata": {
    "collapsed": true
   },
   "outputs": [],
   "source": []
  }
 ],
 "metadata": {
  "kernelspec": {
   "display_name": "Python 3",
   "language": "python",
   "name": "python3"
  },
  "language_info": {
   "codemirror_mode": {
    "name": "ipython",
    "version": 3
   },
   "file_extension": ".py",
   "mimetype": "text/x-python",
   "name": "python",
   "nbconvert_exporter": "python",
   "pygments_lexer": "ipython3",
   "version": "3.6.0"
  }
 },
 "nbformat": 4,
 "nbformat_minor": 2
}
